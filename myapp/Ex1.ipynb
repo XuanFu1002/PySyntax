{
 "cells": [
  {
   "cell_type": "code",
   "execution_count": 4,
   "id": "7a5f57df-0f07-4b00-b5cc-3e2b82ed41c4",
   "metadata": {},
   "outputs": [
    {
     "name": "stdout",
     "output_type": "stream",
     "text": [
      "[0 1 2]\n"
     ]
    }
   ],
   "source": [
    "# 這裡import ... as ... => 是說導入一個模組(module、library都可以)，就如同java中告訴它要Reference的class是誰\n",
    "# ，然後後面的as就只是alias\n",
    "import numpy as np\n",
    "\n",
    "# 所以這邊的np.array()，並不是「object類別的呼叫function」，而是!!「類別類(這邊應該會說包類)」\n",
    "ary = np.array([0,1,2])\n",
    "print(ary)"
   ]
  },
  {
   "cell_type": "code",
   "execution_count": 7,
   "id": "b047ed76-46dc-4a12-b0d4-2a594bf0f44f",
   "metadata": {},
   "outputs": [
    {
     "name": "stdout",
     "output_type": "stream",
     "text": [
      "[0]\n"
     ]
    }
   ],
   "source": [
    "# 都知道根源是「類別類」，所以它然可以使用class去呼叫，話說這邊也就是Static fuction\n",
    "import numpy\n",
    "ary = numpy.array([0])\n",
    "print(ary)"
   ]
  },
  {
   "cell_type": "code",
   "execution_count": 19,
   "id": "41d002b8-e855-43b0-9244-11bb13f89522",
   "metadata": {},
   "outputs": [
    {
     "name": "stdout",
     "output_type": "stream",
     "text": [
      "<class 'numpy.ndarray'>\n",
      "<class 'numpy.ndarray'>\n",
      "(3,)\n",
      "(1,)\n",
      "(3, 3)\n",
      "0\n",
      "1\n"
     ]
    }
   ],
   "source": [
    "import numpy as np\n",
    "\n",
    "ary1 = np.array([0,1,2])\n",
    "ary2 = numpy.array([0])\n",
    "print(type(ary1))        #type() => check the parameter reference data type\n",
    "print(type(ary2))        #cant see that, these ary1、2 output the same reference class => since it just alias, and it is class type \n",
    "print(ary1.shape)        #shape() => 並非回傳長度，而是回傳「陣列的維度」，每個維度的大小\n",
    "print(ary2.shape)        #(n,) => refer維度為一，且一維的大小為n；(n,m) => \n",
    "ary3 = np.array([        #(n,m) => 表示二維，一維資料長度「皆」為n、二維每筆皆為m\n",
    "    [0,1,2],          # NOTE: Numpy是「normal matrix」，「每個維度之間」自己的結構(長度)必須一致\n",
    "    [3,4,5],\n",
    "    [6,7,8]\n",
    "])\n",
    "print(ary3.shape)\n",
    "\n",
    "#以下為「相同維度之間，長度不一」的寫法\n",
    "# ary4 = np.array([      \n",
    "#     [0,1,2,4],          #這裡一維向量，有些結構(長度)為4，也些為3 =>就不行\n",
    "#     [3,4,5],\n",
    "#     [6,7,8]\n",
    "# ])\n",
    "\n",
    "# 最後就是這邊一樣可以用index store element, also index start from zero\n",
    "print(ary1[0])\n",
    "print(ary1[1])\n",
    "# how about when indexOutOfBound\n",
    "# print(ary2[1])    #ok也不行\n",
    "\n"
   ]
  },
  {
   "cell_type": "code",
   "execution_count": 22,
   "id": "6bb0d53c-82f0-416d-a2ce-41bcc81da3d9",
   "metadata": {},
   "outputs": [
    {
     "name": "stdout",
     "output_type": "stream",
     "text": [
      "1\n",
      "2\n"
     ]
    }
   ],
   "source": [
    "import numpy as np\n",
    "\n",
    "ary1 = np.array([0,1,2])\n",
    "ary2 = np.array([        \n",
    "    [0,1,2],          \n",
    "    [3,4,5],\n",
    "    [6,7,8]\n",
    "])\n",
    "print(ary1.ndim)        #ndime => return dimension,回傳陣列為度\n",
    "print(ary2.ndim)"
   ]
  },
  {
   "cell_type": "code",
   "execution_count": 3,
   "id": "bd8a1a70-15a3-49ab-9b08-33840727ee80",
   "metadata": {},
   "outputs": [
    {
     "name": "stdout",
     "output_type": "stream",
     "text": [
      "[1 2 3 4 5 6]\n",
      "[[1 2 3]\n",
      " [4 5 6]]\n",
      "[[1 2]\n",
      " [3 4]\n",
      " [5 6]]\n"
     ]
    }
   ],
   "source": [
    "# reshape() => 重新調整結構\n",
    "import numpy\n",
    "ary = numpy.array([1,2,3,4,5,6])\n",
    "print(ary)\n",
    "reshapedAry1 = ary.reshape(2,3)\n",
    "print(reshapedAry1)\n",
    "reshapedAry2 = ary.reshape(3,2)\n",
    "print(reshapedAry2)\n",
    "# oh對了，python variable沒有declare這個動作，address&assign都是靠value去做的，"
   ]
  },
  {
   "cell_type": "code",
   "execution_count": null,
   "id": "abaceac4-bfb2-42b7-acda-72eaa5f42f77",
   "metadata": {},
   "outputs": [],
   "source": []
  }
 ],
 "metadata": {
  "kernelspec": {
   "display_name": "test",
   "language": "python",
   "name": "test"
  },
  "language_info": {
   "codemirror_mode": {
    "name": "ipython",
    "version": 3
   },
   "file_extension": ".py",
   "mimetype": "text/x-python",
   "name": "python",
   "nbconvert_exporter": "python",
   "pygments_lexer": "ipython3",
   "version": "3.8.19"
  }
 },
 "nbformat": 4,
 "nbformat_minor": 5
}
