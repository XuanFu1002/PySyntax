{
 "cells": [
  {
   "cell_type": "code",
   "execution_count": 2,
   "id": "f735a737-8237-4d9b-9e16-44e03c40b5d9",
   "metadata": {},
   "outputs": [
    {
     "name": "stdout",
     "output_type": "stream",
     "text": [
      "[0 1 2]\n"
     ]
    }
   ],
   "source": [
    "# 這裡import ... as ... => 是說導入一個模組(module、library都可以)，就如同java中告訴它要Reference的class是誰\n",
    "# ，然後後面的as就只是alias\n",
    "import numpy as np\n",
    "\n",
    "# 所以這邊的np.array()，並不是「object類別的呼叫function」，而是!!「類別類(這邊應該會說包類)」\n",
    "ary = np.array([0,1,2])\n",
    "print(ary)"
   ]
  },
  {
   "cell_type": "code",
   "execution_count": 7,
   "id": "b047ed76-46dc-4a12-b0d4-2a594bf0f44f",
   "metadata": {},
   "outputs": [
    {
     "name": "stdout",
     "output_type": "stream",
     "text": [
      "[0]\n"
     ]
    }
   ],
   "source": [
    "# 都知道根源是「類別類」，所以它然可以使用class去呼叫，話說這邊也就是Static fuction\n",
    "import numpy\n",
    "ary = numpy.array([0])\n",
    "print(ary)"
   ]
  },
  {
   "cell_type": "code",
   "execution_count": 8,
   "id": "3178bac9",
   "metadata": {},
   "outputs": [],
   "source": [
    "# 向量, vector => 程式裡面，vector指的通常是「一維向量」；數學，則是較廣泛的定義，多維向量\n",
    "# 矩陣, matrix => 程式中，矩陣典型的結構是二維，但實際上要設計成多少維度都是可以的\n",
    "# 維度, dimension => 「維度的概念，最早起源於對空間的描述」，例如,點、線、平面、立體，分別對應，0維、1維、2維、3維，\n",
    "# 但隨著時代發展，定義愈加廣泛，更是提升到高維度的概念，也成為了，解釋複雜現象和數據結構的重要手段\n",
    "\n",
    "#了解程式中「向量、維度、矩陣」等概念之後 => 來看看相關numpy應用 "
   ]
  },
  {
   "cell_type": "code",
   "execution_count": 16,
   "id": "6cc0e45a",
   "metadata": {},
   "outputs": [
    {
     "name": "stdout",
     "output_type": "stream",
     "text": [
      "(3,)\n",
      "(2, 3)\n",
      "(3, 1)\n",
      "(1, 3, 1)\n",
      "[[[1]\n",
      "  [2]\n",
      "  [3]]]\n",
      "[[[1]\n",
      "  [2]\n",
      "  [3]]]\n"
     ]
    }
   ],
   "source": [
    "# numpy.shape => \n",
    "# 1. 這是一個field，不是function\n",
    "# 2. return數據(通常是矩陣)的「維度大小」\n",
    "# 3. 回傳n個數字代表該數據結構n維 => eg. (k(一維),p(二維)) => 表是二維，且第一維度的元素長度為k，二維的長度為p\n",
    "# 判斷維度準則 => 外圍[]的「層次」，一層就是一維，二層二維，以此類推\n",
    "\n",
    "# imoprt numpy as np => 另外，無須每次都導入package，Vs Code不同cell之間的code會資源共享  \n",
    "# => OK~，但共享資源還是有前提的，假如今天重新開啟一次程式，也就是先前關掉過，那緩存在memory的東西就不存在，\n",
    "# 所以若是此時，直接執行這裡沒有import package的code，那interpret會說找不到numpy，合理，畢竟每給出reference\n",
    "\n",
    "ary1 = np.array([1,2,3])\n",
    "ary2 = np.array([[0,1,2],[3,2,1]])\n",
    "ary3 = np.array([[1],[2],[3]])\n",
    "print(ary1.shape)  # 程式中，認定為一維，也就是一維向量；如果是數學角度的話，這邊就會直接被當作「3維」，因為有1,2,3三種軸\n",
    "print(ary2.shape)    # [0,1,2]整個看做一個x；[3,2,1]看作y => 就會變成[x,y]這就是二維\n",
    "print(ary3.shape)   # 這裡就是才是程式中的3維  => 錯!這裡不是三維，因為最外層的[]結構只有2，所以依舊是2維\n",
    "\n",
    "ary4 = np.array([           #這才是3維，因為外層[]結構有3\n",
    "    [\n",
    "        [1],\n",
    "        [2],\n",
    "        [3]\n",
    "    ]\n",
    "])\n",
    "print(ary4.shape)\n",
    "ary5 = np.array([[[1],[2],[3]]])\n",
    "print(ary4)     #assign value時排版不會引響，最後的value長像，每個language皆是如此\n",
    "print(ary5)\n"
   ]
  },
  {
   "cell_type": "code",
   "execution_count": 20,
   "id": "3436eb06",
   "metadata": {},
   "outputs": [
    {
     "ename": "ValueError",
     "evalue": "setting an array element with a sequence. The requested array has an inhomogeneous shape after 1 dimensions. The detected shape was (2,) + inhomogeneous part.",
     "output_type": "error",
     "traceback": [
      "\u001b[1;31m---------------------------------------------------------------------------\u001b[0m",
      "\u001b[1;31mValueError\u001b[0m                                Traceback (most recent call last)",
      "Cell \u001b[1;32mIn[20], line 2\u001b[0m\n\u001b[0;32m      1\u001b[0m \u001b[38;5;66;03m# numpy declare的DS\u001b[39;00m\n\u001b[1;32m----> 2\u001b[0m ary \u001b[38;5;241m=\u001b[39m \u001b[43mnp\u001b[49m\u001b[38;5;241;43m.\u001b[39;49m\u001b[43marray\u001b[49m\u001b[43m(\u001b[49m\u001b[43m[\u001b[49m\u001b[43m[\u001b[49m\u001b[38;5;241;43m0\u001b[39;49m\u001b[43m,\u001b[49m\u001b[38;5;241;43m1\u001b[39;49m\u001b[43m,\u001b[49m\u001b[38;5;241;43m2\u001b[39;49m\u001b[43m]\u001b[49m\u001b[43m,\u001b[49m\u001b[43m[\u001b[49m\u001b[38;5;241;43m3\u001b[39;49m\u001b[43m,\u001b[49m\u001b[38;5;241;43m1\u001b[39;49m\u001b[43m]\u001b[49m\u001b[43m]\u001b[49m\u001b[43m)\u001b[49m\n",
      "\u001b[1;31mValueError\u001b[0m: setting an array element with a sequence. The requested array has an inhomogeneous shape after 1 dimensions. The detected shape was (2,) + inhomogeneous part."
     ]
    }
   ],
   "source": [
    "# numpy declare的DS，每個維度的之間長度必須一致 => 例如，shape return (2,1) => 那就代表，凡是你一維的長度就只能「==2」不能小於、大於 \n",
    "\n",
    "ary = np.array([[0,1,2],[3,1]])        \n",
    "# 所以這裡就會return error說，「inhomogeneous(非均勻) part(分布)」 => 因為interpret下去之後，suppose shape will be like (3,)\n",
    "# 但是這邊第二個一維的長度是2，所以就是非均勻，ㄚ簡單來說就是「每維度之間，結構不一致」"
   ]
  },
  {
   "cell_type": "code",
   "execution_count": 3,
   "id": "a26def54",
   "metadata": {},
   "outputs": [
    {
     "name": "stdout",
     "output_type": "stream",
     "text": [
      "1\n",
      "2\n",
      "3\n"
     ]
    }
   ],
   "source": [
    "# 透過shape return 我們可以知道「幾維」&「每個維度之間的長度」=> 而shape的return數值，真正著重的是「每維的結構」，\n",
    "# 「幾維度」，那是我們自己算出來的 => ㄚ，簡單來說就是，shape return的數值，「單位不是『整題』幾維」\n",
    "\n",
    "# 所以另一種，直接return整體維度多少的field，那就是 => numpy.ndim\n",
    "ary1 = np.array([1,2,3])\n",
    "ary2 = np.array([[0,1,2],[3,2,1]])\n",
    "ary3 = np.array([[[1],[2],[3]]])\n",
    "\n",
    "print(ary1.ndim)\n",
    "print(ary2.ndim)\n",
    "print(ary3.ndim)\n",
    "\n",
    "# NOTE: python ary index also start from zero"
   ]
  },
  {
   "cell_type": "code",
   "execution_count": 13,
   "id": "6d2e6211",
   "metadata": {},
   "outputs": [
    {
     "name": "stdout",
     "output_type": "stream",
     "text": [
      "(2, 1, 2)\n",
      "ary2 = [1 2 3]\n",
      "[[1 2]\n",
      " [3 4]]\n",
      "[1 2 3 4]\n"
     ]
    }
   ],
   "source": [
    "# numpy.reshape(), function => 簡單來說，這裡的parameter就是放，shape這個return的結構 => 所以按此原理，我有個想法\n",
    "\n",
    "import numpy as np\n",
    "\n",
    "# ary1 = np.array([[[1,2,3]],[[1,2]]])  => 這裡一維長度沒有homogeneous(一致)\n",
    "ary1 = np.array([[[1,3]],[[2,4]]])\n",
    "print(ary1.shape)\n",
    "\n",
    "ary2 = np.array([1,2,3])    # 共3個element => 要分成2*1的維度，共2個element，顯然不行，因為整體元素量就不同\n",
    "ary3 = np.array([1,2,3,4])\n",
    "\n",
    "# Try two approach of reshape => 1. directly give argument 2. use other DS shape as argument\n",
    "print(\"ary2 =\",ary2)\n",
    "# print(ary2.reshape(2,1))    #ok, reshape也不能隨意reshape，必須整體element數量相同 => 不能少\n",
    "# print(ary2.reshape(2,2))      不能多\n",
    "print(ary3.reshape(2,2))      # only get same amount of element, 才可以調整轉換，結構 => 這邊2*2，need 4 element & 一維vector共4，所以ok\n",
    "print(\"===================\")\n",
    "\n",
    "# reshape argument代入DS.shape return\n",
    "ary = np.array([1,2,3,4])\n",
    "print(ary3.reshape(ary.shape))      # 可以~ => 唉唷就同理壓麻\n",
    "print(\"===================\")\n",
    "\n",
    "# Tips 「-1」，在reshape的parameter當中提供-1這個value，就代表說，讓interpret自己算 => 不過維度是固定的，你shape結構長怎樣就是怎樣 => 不過感覺這-1不怎麼常用吧ㄏㄏ"
   ]
  },
  {
   "cell_type": "code",
   "execution_count": 21,
   "id": "1d0185bd",
   "metadata": {},
   "outputs": [
    {
     "name": "stdout",
     "output_type": "stream",
     "text": [
      "ary1 [0 1 2 3 4 5 6 7 8 9]\n",
      "ary2 [1 2 3 4 5 6 7 8 9]\n",
      "ary3 []\n",
      "ary4 [0 2 4 6 8]\n",
      "ary5 [1. 2. 3. 4.]\n",
      "int64\n",
      "<class 'numpy.ndarray'>\n"
     ]
    },
    {
     "ename": "AttributeError",
     "evalue": "'int' object has no attribute 'dtype'",
     "output_type": "error",
     "traceback": [
      "\u001b[1;31m---------------------------------------------------------------------------\u001b[0m",
      "\u001b[1;31mAttributeError\u001b[0m                            Traceback (most recent call last)",
      "Cell \u001b[1;32mIn[21], line 25\u001b[0m\n\u001b[0;32m     23\u001b[0m \u001b[38;5;28mprint\u001b[39m(\u001b[38;5;28mtype\u001b[39m(ary1))\n\u001b[0;32m     24\u001b[0m x \u001b[38;5;241m=\u001b[39m \u001b[38;5;241m10\u001b[39m\n\u001b[1;32m---> 25\u001b[0m \u001b[38;5;28mprint\u001b[39m(\u001b[43mx\u001b[49m\u001b[38;5;241;43m.\u001b[39;49m\u001b[43mdtype\u001b[49m)\n",
      "\u001b[1;31mAttributeError\u001b[0m: 'int' object has no attribute 'dtype'"
     ]
    }
   ],
   "source": [
    "# numpy.arange(start, stop, step(interval),dtype), function => 主要用來生成「等差」數列，等差預設為1，想調整等差數列的公差，調整interval\n",
    "# start(option) => 數列,起始值\n",
    "# stop => 數列,終止的value (不包含stop本身的value) => 就跟其他API常見的start、end Index一樣，實際作用範圍都是「start~end-1」\n",
    "# interval(option) => 公差\n",
    "# dtype(option) => 數列element的data type\n",
    "import numpy as np\n",
    "\n",
    "ary1 = np.arange(10)        # 只給一個時候，此argument當作「stop」parameter，並且起始從0開始 => 所以「0~9」 => 這裡的10是value unit，非count unit\n",
    "ary2 = np.arange(1,10)      # 1~9, default interval 1\n",
    "ary3 = np.arange(10,2)      # 我預期的是0、2、4、6、8 => 但是這裡結果是[]，空集合 => 是因為，這邊的parameter被分別當作start、stop => 並不是我心中想的stop、interval => 不過確實沒那麼智能\n",
    "                            # 因為本來就有一個function define是arange(start, stop) => 然後如果再定義一個，就會造成語法上的問題，已經declare過，所以才會有overload的出現，但是要不同parameter\n",
    "ary4 = np.arange(0,10,2)\n",
    "ary5 = np.arange(1,5,dtype=float)\n",
    "print(\"ary1\",ary1)\n",
    "print(\"ary2\",ary2)\n",
    "print(\"ary3\",ary3)\n",
    "print(\"ary4\",ary4)\n",
    "print(\"ary5\",ary5)\n",
    "\n",
    "\n",
    "#最後就可以透過 dtype這個field去察看型態 => 但應該是侷限在，用arange new的DS? => 沒錯，但更準確地來說是numpy這個class的object才能使用dtype查看型別\n",
    "print(ary1.dtype)\n",
    "print(type(ary1))\n",
    "x = 10          \n",
    "print(x.dtype)  #非numpy所以不能用dtype這個field => 哎呀，回到最根本原理，dtype是class的field，要想使用，當然就是class的object才可以用呀 => 所以其他reference自然用不了"
   ]
  },
  {
   "cell_type": "code",
   "execution_count": 30,
   "id": "41d002b8-e855-43b0-9244-11bb13f89522",
   "metadata": {},
   "outputs": [
    {
     "name": "stdout",
     "output_type": "stream",
     "text": [
      "[ 0.          0.20408163  0.40816327  0.6122449   0.81632653  1.02040816\n",
      "  1.2244898   1.42857143  1.63265306  1.83673469  2.04081633  2.24489796\n",
      "  2.44897959  2.65306122  2.85714286  3.06122449  3.26530612  3.46938776\n",
      "  3.67346939  3.87755102  4.08163265  4.28571429  4.48979592  4.69387755\n",
      "  4.89795918  5.10204082  5.30612245  5.51020408  5.71428571  5.91836735\n",
      "  6.12244898  6.32653061  6.53061224  6.73469388  6.93877551  7.14285714\n",
      "  7.34693878  7.55102041  7.75510204  7.95918367  8.16326531  8.36734694\n",
      "  8.57142857  8.7755102   8.97959184  9.18367347  9.3877551   9.59183673\n",
      "  9.79591837 10.        ]\n",
      "[ 0.   2.5  5.   7.5 10. ]\n",
      "2.5\n"
     ]
    }
   ],
   "source": [
    "# arange可以說是，著重「公差」，用給定的公差去new Ary，至於最終element有多少個他不care => arange只關心公差，不關心數量\n",
    "# linspace()，剛好相反 => linspace著重的是「element總數」，至於這個數列的公差會是多少他不care\n",
    "\n",
    "# 不過兩者的共通點就是，生成的ary皆為等差數列\n",
    "\n",
    "# numpy.linspace(start, stop, num=50, ednpoint=True, retstep=False, dtype=None)      => 別忘了，API document中，function parameter寫上，num=50，就表示此參數可以不用寫，然後他自動預設帶入50\n",
    "# start => 起始value \n",
    "# stop => 結束value\n",
    "# num(option) => 「共多少element」, default數量為「50」\n",
    "# endpoint(option) => 是否包含stop這個value，i.e. 「start ~ stop」or 「start ~ stop-1」，~stop-1就是endpoint=false\n",
    "# retstep(option) => return step size, 如果設成true，就會回傳step size  \n",
    "#       => 懂了懂了，因為我們說了，linspace，著重的是總數，但是還是會基於這個總數去作出一個「等差數列」，然後快速獲取等差值的方式就是retsep\n",
    "#          ，並且說了return，那就可以用variable去接住assign，不過這裡就是python的寫法了，有夠噁心，完全沒有底層歸納的規則感，dirty\n",
    "# dtype(option) => 一樣是for numpy object的reference field for checking data type\n",
    "\n",
    "import numpy as np\n",
    "\n",
    "ary = np.linspace(0,10)\n",
    "ary1 = np.linspace(0,10,5,True)     #這樣子寫，retstep所return的東西就沒有人接住\n",
    "ary2, dirty = np.linspace(0,10,5,retstep=True)           # 結合底層的概念的話，這邊肯定就是linspace又去做了其他function calling，並且還讓我們做return \n",
    "                                                         # 第二個function calling 的return value => 便方便沒錯，但就非常不make sense\n",
    "print(ary)      # can see that defualt create 50 numbers, 並且是等差數列\n",
    "print(ary1)\n",
    "print(dirty)\n",
    "\n",
    "# NOTE: Abbreviation of linspace is \"linear space\"\n"
   ]
  },
  {
   "cell_type": "code",
   "execution_count": 2,
   "id": "7db151f1",
   "metadata": {},
   "outputs": [
    {
     "name": "stdout",
     "output_type": "stream",
     "text": [
      "[-3.31639403e-044  2.72309065e-310 -0.00000000e+000]\n"
     ]
    }
   ],
   "source": [
    "# numpy.empty(shape, dtype=float, order='C') => 透過empty建立的陣列(物件)不會做初始化(assign value)的動作 => 所以就不會有甚麼int type initial value用0的情況\n",
    "\n",
    "# empty()的優勢在於，快速創建一個DS，並且不用考量initial value\n",
    "# 一開始給我的感覺，就很像 => java當中有declare object，但是沒有new object => 畢竟他說empty不會initialize(assign) value \n",
    "# => 所以理所當然想成，現在有這個variable name並且也有address，但是底下沒有掛value\n",
    "\n",
    "import numpy as np\n",
    "\n",
    "\n",
    "# 但實際上，做一遍empty之後會發現，其實他還是有value => 所以就可以推翻說，他還是有座new的動作，只是他塞的不是default value，這邊塞的是內存殘留的數據 => 所以概念上，不等同於沒做new\n",
    "ary = np.empty(3)\n",
    "print(ary)          # [4.9e-324 9.9e-324 1.5e-323]"
   ]
  },
  {
   "cell_type": "code",
   "execution_count": 4,
   "id": "794e9ecc",
   "metadata": {},
   "outputs": [
    {
     "name": "stdout",
     "output_type": "stream",
     "text": [
      "[[0. 0. 0. 0. 0.]]\n",
      "[[0 0 0 0 0]]\n"
     ]
    }
   ],
   "source": [
    "# numpy.zero(shape, dtype=float, char='C') => 建立一個shape所提供的維度DS結構 做return，並且每個element initial zero\n",
    "\n",
    "import numpy\n",
    "\n",
    "# ary = numpy.zeros(1,5) => 這樣是錯的，別忘了，shape的寫法，是一整個()為一組去看 => 如過按照這邊1,5的話，會被看做是不同field name parameter參數\n",
    "ary = numpy.zeros((1,5))\n",
    "print(ary)      # default float\n",
    "ary = numpy.zeros((1,5),int)\n",
    "print(ary)"
   ]
  },
  {
   "cell_type": "code",
   "execution_count": 38,
   "id": "f7813e9e",
   "metadata": {},
   "outputs": [
    {
     "name": "stdout",
     "output_type": "stream",
     "text": [
      "[[1. 1. 1. 1. 1.]]\n"
     ]
    }
   ],
   "source": [
    "# numpy.ones(shape,dtype=float,order='C') => 全部initialize 1，至於用法就一模一樣\n",
    "\n",
    "import numpy as np\n",
    "\n",
    "ary = np.ones((1,5))\n",
    "print(ary)\n"
   ]
  },
  {
   "cell_type": "code",
   "execution_count": 14,
   "id": "e115c1d9",
   "metadata": {},
   "outputs": [
    {
     "name": "stdout",
     "output_type": "stream",
     "text": [
      "[0 1 2 3 4 5]\n",
      "[0 1 2 3 4]\n",
      "[0 1 2 3 4 5]\n",
      "=======================\n",
      "[0 1 2 3 4 5 6 7 8 9]\n",
      "[3 4 5]\n",
      "[0 3 6 9]\n",
      "[1 4 7]\n"
     ]
    }
   ],
   "source": [
    "# 2024/10/4(Fri.)\n",
    "\n",
    "# \"slice\"這是python原生syntax，雖說Python Standard library有提供API的呼叫形式，但是主流用法還是直接用原生地syntax寫法\n",
    "\n",
    "# 既然說了，\"slice\"是python原生syntax，那就來看看語法\n",
    "# ary[start:stop:step]\n",
    "# start => stard 「index」, include\n",
    "# stop => stop 「index」, exclude\n",
    "# step(option) => 前後index相差距離，i.e.下一個index要找多遠, default is 1 \n",
    "\n",
    "# 觀察：\n",
    "# coding中，如果「ary、string」使用到start、stop parameter，通常都是遵守 => start ~ stop -1, 不包含stop\n",
    "# 可以注意到這邊有「step(interval)」這個parameter => 所以他肯定是Return「等差數列」結構\n",
    "# 所以不經讓我想起了「numpy.arange(start,stop,step)」，因為這也是return等差數列\n",
    "\n",
    "# numpy.arange vs. slice\n",
    "# 雖說兩者最終都是return等差數列，但是實作出發點不同\n",
    "# slice => 他是針對現有的「data set」中，去挑選index，回傳一個等差數列 => i.e.一個subset\n",
    "# numpy.arange() => 這邊沒有base on source data set的問題，這邊是完全自己create一個，等差數列出來\n",
    "\n",
    "# 至於numpy對於slice所扮演的角色\n",
    "# slice是基於python的syntax => 而python ary，適用於一維ary，Numpy提供建立多維數組DS管道 => 然後Numpy繼承了python slice snytax => make sense, 畢竟如果不能向下兼容，這算不上擴充\n",
    "\n",
    "import numpy as np\n",
    "\n",
    "ary = np.array([0,1,2,3,4,5])\n",
    "# aim: [0,1,2,3,4]\n",
    "print(ary[:6])      # 這邊parameter的unit is 「index」 => 所以array真正的index 0~5 => 然後我們這邊給了stop，沒給start就default 0, 0~6-1 => 所以依舊有輸出last index\n",
    "print(ary[:5])      # 這樣才是 0~4 index\n",
    "print(ary[:])   # this also the syntax of slice\n",
    "# start沒給時, default 代入 0\n",
    "# stop沒給時, default 代入 len(ary)，i.e.是總長度，「總長度-1」就是last index => 所以才會看到這樣可以return all element\n",
    "\n",
    "print(\"=======================\")\n",
    "\n",
    "ary1 = np.arange(10)        # numpy.arange(start(option), stop, step(option))  => value: 0 ~ 10-1\n",
    "print(ary1) \n",
    "print(ary1[3:6])\n",
    "print(ary1[::3])        #first, first+3, first+6, .....\n",
    "print(ary1[1::3])\n",
    "\n",
    "# Summary: 從Set當中提取sub set"
   ]
  },
  {
   "cell_type": "code",
   "execution_count": 23,
   "id": "d23afac6",
   "metadata": {},
   "outputs": [
    {
     "name": "stdout",
     "output_type": "stream",
     "text": [
      "[ 0  1  2  3  4  5  6  7  8  9 10]\n",
      "[ 0  2  3  4  4  5  6  7  8  9 10]\n",
      "[ 0  2  3  0  0  0  0  7  8  9 10]\n"
     ]
    }
   ],
   "source": [
    "# 除了return sub set之外，利用slice撈取specific index特性，還可以修改特定index value\n",
    "\n",
    "import numpy as np\n",
    "\n",
    "ary = np.arange(11)\n",
    "print(ary)\n",
    "ary[1:4] = ary[1:4] +1      #okay這就是python抽象的地方，實在省略太多\n",
    "print(ary)\n",
    "ary[3:7] = [0,0,0,0]    # NOTE: 這邊數量要一致\n",
    "print(ary)"
   ]
  },
  {
   "cell_type": "code",
   "execution_count": 29,
   "id": "0ed6401d",
   "metadata": {},
   "outputs": [
    {
     "name": "stdout",
     "output_type": "stream",
     "text": [
      "[[2 3]\n",
      " [8 9]]\n",
      "(2, 3)\n",
      "(3, 1, 2)\n",
      "[[2 3]\n",
      " [8 9]]\n"
     ]
    }
   ],
   "source": [
    "# 二維以上的slice syntax\n",
    "\n",
    "import numpy as np\n",
    "\n",
    "aryTwoDimension = np.array([[1,2,3],[7,8,9],[4,5,6]])\n",
    "print(aryTwoDimension[:2,1:3])      # 最初的猜想 78 45 => 沒搞懂維度概念 => 我知道(第一維,第二維度,...)這個依序 => 但是!! 我一開始認為[1,2,3]這一組叫做一維!\n",
    "\n",
    "# 這個現象，就是因為當初在學java Array遇到不同維度的時候，沒有釐清 => 我記得江老師，那時候在談論二維、三維的時候，有說最後一維，也就是第三維是存放資料的地方，第一層叫做一維\n",
    "# ，那時我唯一搞懂的是最後一維是放資料的地方，就如同tree的leaf node才時最後的element所在，array也是如此 \n",
    "\n",
    "\n",
    "# 問過chat之後，終於搞懂「維度」是甚麼\n",
    "\n",
    "# 先來說明我原先錯誤的觀念 => 受[1,2,3]一維資料長相的影響，起初我下意識就認為，「不管多少維度」真正有資料的地方就叫做一維 \n",
    "# => 所以當二維的時候 [[1,2,3],[5,6,7]]，我會認為一維的長度為3,二維的長度為2，然後shape要return(3,2) => 但實際上是(2,3)\n",
    "test = np.array([[1,2,3],[4,5,6]])\n",
    "print(test.shape)\n",
    "# chat說了，維度是按照「軸(axis)」來做定義的，第一個遇到的就叫做axis0，第二個就叫做axis2..... => 然後表示起來的寫法就是，(axis0, axis1, axis2, ...)\n",
    "# 所以當今天的資料只有一個軸的時候，最後一層就剛好叫做一維；若是兩個軸的時候，那第一個遇到的軸就叫一維，然後真正有data的是在第二維\n",
    "# summary: \n",
    "# 1. 維度的概念，是一層一層的，第一層遇到的叫稱作維一維，依序排列下去\n",
    "# 2. 真正有資料的地方，都是在最後一維\n",
    "# NOTE: n維就代表有幾個n-1維，而第一維的數量就是n-1\n",
    "\n",
    "test = np.array([[[1,2]],[[3,4]],[[5,6]]])  # 先遇到就是第一維，就先設為第一個axis，所以最後一層才是element => 就跟tree或ary裡面一樣最後一層才有value\n",
    "print(test.shape)    # 對維度有真正意義上的理解之後，就可以知道這邊shape該長甚麼樣子 => (3,1,2) => shape回傳的就是每維的長度\n",
    "\n",
    "\n",
    "# 知道維度的單位之後，就可以回過頭在看一次，對多維做slice之後，構想他的長相\n",
    "test2 = np.array([[1,2,3],[7,8,9],[4,5,6]])\n",
    "print(test2[:2,1:3])        # explain: 一維, 索取0、1 index；二維, 索取1、2 index => interval both are 1 \n",
    "                            # => 一維索取0、1，剩下[[1,2,3],[7,8,9]] => 二維索取1、2，剩下[[2,3],[8,9]] => great~~\n",
    "\n",
    "\n",
    "# NOTE: 不管哪個程式語言，所採用的維度概念都是以軸為定義，所以現在我搞清楚java multiple dimension那邊的用詞稱呼了，準確來說都是用都懂了"
   ]
  },
  {
   "cell_type": "code",
   "execution_count": 41,
   "id": "b5ca132b",
   "metadata": {},
   "outputs": [
    {
     "name": "stdout",
     "output_type": "stream",
     "text": [
      "[ 0  1  2  3  4  5  6  7  8  9 10]\n",
      "[ 0  1  2  3  4  5  6  7  8  9 10]\n",
      "[0 1 2 3 4 5 6 7]\n",
      "[0 2 4 6]\n",
      "[ 4  5  6  7  8  9 10]\n",
      "====================\n",
      "[1 4 7]\n",
      "[[1 2]\n",
      " [4 5]\n",
      " [7 8]]\n",
      "====================\n",
      "[5 4 3]\n",
      "[]\n"
     ]
    }
   ],
   "source": [
    "# slice的其餘用法\n",
    "\n",
    "import numpy as np\n",
    "\n",
    "ary = np.arange(11)     # stop parameter, 0~10\n",
    "print(ary) \n",
    "print(ary[:])      # start default 0, stop default len(ary), step default 1\n",
    "print(ary[0:8])    # 0~7 index => return, 0~7\n",
    "print(ary[0:8:2])       # 0~7 index, step 2 => 0、2、4、6\n",
    "print(ary[4:])      # start 4, stop default 「len(ary)」, step default 1 => 4~11-1 index => return 4,5,6,7,8,9,10\n",
    "\n",
    "print(\"====================\")\n",
    "\n",
    "# 「...」ellipsis, 省略符號\n",
    "ary2 = np.array([[0, 1, 2], [3, 4, 5], [6, 7, 8]])\n",
    "print(ary2[...,1])\n",
    "print(ary2[...,1:])\n",
    "\n",
    "print(\"====================\")\n",
    "\n",
    "#「-」，若是遇上slice parameter有「負數」的情況，這裡不向java、C++那樣會判斷說要找-n的index，\n",
    "# 按照計算機原理，這才是直觀的，本來計算機就是死的，假設你今天給一個ary[-5]，compiler只會給你說indexOutOfBounds，syntax上沒問題，因為是給int => 這才是合理的計算機行為\n",
    "# 但python背後又搞事情了 => 這邊start、stop parameter可以是負數，並且他不會認為我們要找-n index，他會自動幫我們從尾巴倒數過來找index, um interested\n",
    "# 最後就是step parameter，這個還好理解，就是原本interval iterate的時候是用++，但現在改成--，但也因此，start index 要 > stop\n",
    "test = np.array([1,2,3,4,5,6,7])\n",
    "print(test[4:1:-1])     # 4~stop+1, step -1 => return, 5、4、3   => 這裡會stop+1也很好理解，因為stop的定義就是不能超過他、不能包含他，然後今天是倒著過來，+1才不會超過上限\n",
    "\n",
    "# 如果start < stop 且用 - step，結果會如何\n",
    "print(test[1:4:-1])     # 直接return empty set => 合理，說過slice就是return一個substring，那既然甚麼也沒找到，那就是回傳「空集合」"
   ]
  },
  {
   "cell_type": "code",
   "execution_count": 43,
   "id": "aa12eecf",
   "metadata": {},
   "outputs": [
    {
     "name": "stdout",
     "output_type": "stream",
     "text": [
      "[[0 1 2]\n",
      " [3 4 5]\n",
      " [6 7 8]]\n",
      "[[4 5]]\n"
     ]
    }
   ],
   "source": [
    "# practice, guess the answer\n",
    "import numpy as np\n",
    "\n",
    "ary = np.arange(9)\n",
    "ary1 = ary.reshape((3,3))\n",
    "print(ary1)     # [[0,1,2],[3,4,5],[6,7,8]]\n",
    "ary1 = ary1[1:2, 1:3]   # one dimension, 1 index；two dimension, 1、2 index => [4,5] => got it great~ => but notice here return two dimension, not one\n",
    "print(ary1)"
   ]
  },
  {
   "cell_type": "code",
   "execution_count": 39,
   "id": "9b3e9300",
   "metadata": {},
   "outputs": [
    {
     "name": "stdout",
     "output_type": "stream",
     "text": [
      "3\n",
      "4\n",
      "5\n",
      "7\n",
      "8\n",
      "9\n",
      "10\n",
      "20\n",
      "30\n",
      "45\n",
      "65\n",
      "75\n"
     ]
    }
   ],
   "source": [
    "# numpy.nditer(object), function => 不管多少維度，都可以查看每個元素\n",
    "import numpy as np\n",
    "\n",
    "ary = np.array([[[3,4,5],[7,8,9]],[[10,20,30],[45,65,75]]])\n",
    "\n",
    "for x in np.nditer(ary):\n",
    "    print(x)"
   ]
  }
 ],
 "metadata": {
  "kernelspec": {
   "display_name": "PySyntax_Learning_Env",
   "language": "python",
   "name": "pysyntax_learning_env"
  },
  "language_info": {
   "codemirror_mode": {
    "name": "ipython",
    "version": 3
   },
   "file_extension": ".py",
   "mimetype": "text/x-python",
   "name": "python",
   "nbconvert_exporter": "python",
   "pygments_lexer": "ipython3",
   "version": "3.8.19"
  }
 },
 "nbformat": 4,
 "nbformat_minor": 5
}
